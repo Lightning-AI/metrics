{
 "cells": [
  {
   "cell_type": "code",
   "execution_count": null,
   "metadata": {},
   "outputs": [],
   "source": [
    "import torch\n",
    "from torchmetrics.functional.classification.group_fairness import _binary_stat_scores_arg_validation, _binary_stat_scores_tensor_validation, _groups_validation, _binary_stat_scores_format, _groups_format, _binary_stat_scores_update\n",
    "\n",
    "num_groups = 3\n",
    "threshold = 0.5\n",
    "ignore_index = None\n",
    "validate_args = True\n",
    "\n",
    "n = 17\n",
    "\n",
    "target = torch.randint(0, 2, (n,))\n",
    "preds = torch.rand(n)\n",
    "groups = torch.randint(0,3, (n,))"
   ]
  },
  {
   "cell_type": "code",
   "execution_count": null,
   "metadata": {},
   "outputs": [],
   "source": [
    "if validate_args:\n",
    "    _binary_stat_scores_arg_validation(threshold, \"global\", ignore_index)\n",
    "    _binary_stat_scores_tensor_validation(preds, target, \"global\", ignore_index)\n",
    "    _groups_validation(groups, num_groups)\n",
    "\n",
    "preds, target = _binary_stat_scores_format(preds, target, threshold, ignore_index)\n",
    "groups = _groups_format(groups)\n",
    "\n",
    "group_preds = [preds[groups == i].unsqueeze(1) for i in range(num_groups)]\n",
    "group_target = [target[groups == i].unsqueeze(1) for i in range(num_groups)]\n",
    "\n",
    "# group_stats = [_binary_stat_scores_update(group_p, group_t) \n",
    "#                for group_p, group_t in zip(group_preds, group_target)]"
   ]
  },
  {
   "cell_type": "code",
   "execution_count": null,
   "metadata": {},
   "outputs": [],
   "source": [
    "# group 0: 5, 8, 9, 12, 15\n",
    "# preds: True, True, False, False, True\n",
    "# target: 1, 0, 0, 1, 0"
   ]
  },
  {
   "cell_type": "code",
   "execution_count": null,
   "metadata": {},
   "outputs": [],
   "source": [
    "indexes, indices = torch.sort(groups.squeeze(1), stable=True)"
   ]
  },
  {
   "cell_type": "code",
   "execution_count": null,
   "metadata": {},
   "outputs": [],
   "source": [
    "indices"
   ]
  },
  {
   "cell_type": "code",
   "execution_count": null,
   "metadata": {},
   "outputs": [],
   "source": []
  },
  {
   "cell_type": "code",
   "execution_count": null,
   "metadata": {},
   "outputs": [],
   "source": [
    "indexes, indices = torch.sort(groups.squeeze(1))\n",
    "preds = preds[indices]\n",
    "target = target[indices]"
   ]
  },
  {
   "cell_type": "code",
   "execution_count": null,
   "metadata": {},
   "outputs": [],
   "source": []
  },
  {
   "cell_type": "code",
   "execution_count": null,
   "metadata": {},
   "outputs": [],
   "source": []
  },
  {
   "cell_type": "code",
   "execution_count": null,
   "metadata": {},
   "outputs": [],
   "source": [
    "\n",
    "\n",
    "\n",
    "indexes, indices = torch.sort(groups.squeeze(1))\n",
    "preds = preds[indices]\n",
    "target = target[indices]\n",
    "\n",
    "split_sizes = _flexible_bincount(indexes).detach().cpu().tolist()\n",
    "\n",
    "group_preds_2 = [mini_preds for mini_preds in torch.split(preds, split_sizes, dim=0)]\n",
    "group_target_2 = [mini_target for mini_target in torch.split(target, split_sizes, dim=0)]"
   ]
  },
  {
   "cell_type": "code",
   "execution_count": null,
   "metadata": {},
   "outputs": [],
   "source": [
    "[torch.equal(group_p, group_p_2) for group_p, group_p_2 in zip(group_preds, group_preds_2)]"
   ]
  },
  {
   "cell_type": "code",
   "execution_count": null,
   "metadata": {},
   "outputs": [],
   "source": []
  },
  {
   "cell_type": "code",
   "execution_count": null,
   "metadata": {},
   "outputs": [],
   "source": []
  },
  {
   "cell_type": "code",
   "execution_count": null,
   "metadata": {},
   "outputs": [],
   "source": []
  },
  {
   "cell_type": "code",
   "execution_count": null,
   "metadata": {},
   "outputs": [],
   "source": []
  },
  {
   "cell_type": "code",
   "execution_count": null,
   "metadata": {},
   "outputs": [],
   "source": []
  },
  {
   "cell_type": "code",
   "execution_count": null,
   "metadata": {},
   "outputs": [],
   "source": [
    "import torch\n",
    "from torchmetrics.classification.group_fairness import BinaryGroupStatRates\n",
    "target = torch.tensor([0, 1, 0, 1, 0, 1])\n",
    "preds = torch.tensor([0.11, 0.84, 0.22, 0.73, 0.33, 0.92])\n",
    "groups = torch.tensor([0, 1, 0, 1, 0, 1])\n",
    "metric = BinaryGroupStatRates(2)\n",
    "metric(preds, target, groups)"
   ]
  },
  {
   "cell_type": "code",
   "execution_count": null,
   "metadata": {},
   "outputs": [],
   "source": [
    "from torchmetrics.classification.group_fairness import BinaryFairness\n",
    "target = torch.tensor([0, 1, 0, 1, 0, 1])\n",
    "preds = torch.tensor([0.11, 0.84, 0.22, 0.73, 0.33, 0.92])\n",
    "groups = torch.tensor([0, 1, 0, 1, 0, 1])\n",
    "metric = BinaryFairness(2)\n",
    "metric(preds, groups, target)"
   ]
  },
  {
   "cell_type": "code",
   "execution_count": 3,
   "metadata": {},
   "outputs": [
    {
     "name": "stdout",
     "output_type": "stream",
     "text": [
      "{'DP_0_1': tensor(0.)}\n",
      "{'EO_0_1': tensor(0.)}\n"
     ]
    }
   ],
   "source": [
    "from torchmetrics.functional.classification import demographic_parity, equal_opportunity\n",
    "target = torch.tensor([0, 1, 0, 1, 0, 1])\n",
    "preds = torch.tensor([0.11, 0.84, 0.22, 0.73, 0.33, 0.92])\n",
    "groups = torch.tensor([0, 1, 0, 1, 0, 1])\n",
    "print(demographic_parity(preds, groups))\n",
    "print(equal_opportunity(preds, target, groups))"
   ]
  },
  {
   "cell_type": "code",
   "execution_count": 2,
   "metadata": {},
   "outputs": [
    {
     "data": {
      "text/plain": [
       "{'group_0': tensor([0., 0., 1., 0.]), 'group_1': tensor([1., 0., 0., 0.])}"
      ]
     },
     "execution_count": 2,
     "metadata": {},
     "output_type": "execute_result"
    }
   ],
   "source": [
    "import torch\n",
    "from torchmetrics.functional.classification import binary_groups_stat_rates\n",
    "target = torch.tensor([0, 1, 0, 1, 0, 1])\n",
    "preds = torch.tensor([0.11, 0.84, 0.22, 0.73, 0.33, 0.92])\n",
    "groups = torch.tensor([0, 1, 0, 1, 0, 1])\n",
    "binary_groups_stat_rates(preds, target, groups, 2)"
   ]
  },
  {
   "cell_type": "code",
   "execution_count": null,
   "metadata": {},
   "outputs": [],
   "source": []
  }
 ],
 "metadata": {
  "kernelspec": {
   "display_name": "Python 3",
   "language": "python",
   "name": "python3"
  },
  "language_info": {
   "codemirror_mode": {
    "name": "ipython",
    "version": 3
   },
   "file_extension": ".py",
   "mimetype": "text/x-python",
   "name": "python",
   "nbconvert_exporter": "python",
   "pygments_lexer": "ipython3",
   "version": "3.9.15"
  },
  "orig_nbformat": 4,
  "vscode": {
   "interpreter": {
    "hash": "949777d72b0d2535278d3dc13498b2535136f6dfe0678499012e853ee9abcab1"
   }
  }
 },
 "nbformat": 4,
 "nbformat_minor": 2
}
